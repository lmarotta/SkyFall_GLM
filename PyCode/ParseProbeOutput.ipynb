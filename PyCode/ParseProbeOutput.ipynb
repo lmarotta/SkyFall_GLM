{
 "cells": [
  {
   "cell_type": "code",
   "execution_count": 1,
   "metadata": {
    "collapsed": true
   },
   "outputs": [],
   "source": [
    "import numpy as np\n",
    "import pandas as pd\n",
    "import re"
   ]
  },
  {
   "cell_type": "code",
   "execution_count": 2,
   "metadata": {
    "collapsed": true
   },
   "outputs": [],
   "source": [
    "regex = re.compile('{|\"|:|,|\\s+|\\[|\\]')\n",
    "def mysplit(payload): \n",
    "    a = regex.split(payload)\n",
    "#     a=re.split('{|\"|:|,|\\s+|\\[|\\]',payload)\n",
    "    while '' in a:\n",
    "        a.remove('')\n",
    "    return a"
   ]
  },
  {
   "cell_type": "code",
   "execution_count": 3,
   "metadata": {
    "collapsed": true
   },
   "outputs": [],
   "source": [
    "data = pd.read_table('export_2017-07-11.txt')"
   ]
  },
  {
   "cell_type": "code",
   "execution_count": 4,
   "metadata": {
    "collapsed": false
   },
   "outputs": [
    {
     "data": {
      "text/html": [
       "<div>\n",
       "<table border=\"1\" class=\"dataframe\">\n",
       "  <thead>\n",
       "    <tr style=\"text-align: right;\">\n",
       "      <th></th>\n",
       "      <th>User ID</th>\n",
       "      <th>Probe</th>\n",
       "      <th>Logged</th>\n",
       "      <th>Start</th>\n",
       "      <th>End</th>\n",
       "      <th>Duration</th>\n",
       "      <th>Payload</th>\n",
       "    </tr>\n",
       "  </thead>\n",
       "  <tbody>\n",
       "    <tr>\n",
       "      <th>0</th>\n",
       "      <td>37794415029a0900612317ac09b6ea23</td>\n",
       "      <td>edu.northwestern.cbits.purple_robot_manager.pr...</td>\n",
       "      <td>2017-07-11 14:30:00.029000+00:00</td>\n",
       "      <td>NaN</td>\n",
       "      <td>NaN</td>\n",
       "      <td>NaN</td>\n",
       "      <td>{\"MIN_ABSOLUTE_TIMESTAMP\": 1499783395063.127, ...</td>\n",
       "    </tr>\n",
       "    <tr>\n",
       "      <th>1</th>\n",
       "      <td>37794415029a0900612317ac09b6ea23</td>\n",
       "      <td>edu.northwestern.cbits.purple_robot_manager.pr...</td>\n",
       "      <td>2017-07-11 14:30:05.028000+00:00</td>\n",
       "      <td>NaN</td>\n",
       "      <td>NaN</td>\n",
       "      <td>NaN</td>\n",
       "      <td>{\"MIN_ABSOLUTE_TIMESTAMP\": 1499783400071.5752,...</td>\n",
       "    </tr>\n",
       "    <tr>\n",
       "      <th>2</th>\n",
       "      <td>37794415029a0900612317ac09b6ea23</td>\n",
       "      <td>edu.northwestern.cbits.purple_robot_manager.pr...</td>\n",
       "      <td>2017-07-11 14:30:10.014000+00:00</td>\n",
       "      <td>NaN</td>\n",
       "      <td>NaN</td>\n",
       "      <td>NaN</td>\n",
       "      <td>{\"MIN_ABSOLUTE_TIMESTAMP\": 1499783405078.9646,...</td>\n",
       "    </tr>\n",
       "    <tr>\n",
       "      <th>3</th>\n",
       "      <td>37794415029a0900612317ac09b6ea23</td>\n",
       "      <td>edu.northwestern.cbits.purple_robot_manager.pr...</td>\n",
       "      <td>2017-07-11 14:30:15.027000+00:00</td>\n",
       "      <td>NaN</td>\n",
       "      <td>NaN</td>\n",
       "      <td>NaN</td>\n",
       "      <td>{\"MIN_ABSOLUTE_TIMESTAMP\": 1499783410066.2354,...</td>\n",
       "    </tr>\n",
       "    <tr>\n",
       "      <th>4</th>\n",
       "      <td>37794415029a0900612317ac09b6ea23</td>\n",
       "      <td>edu.northwestern.cbits.purple_robot_manager.pr...</td>\n",
       "      <td>2017-07-11 14:30:20.025000+00:00</td>\n",
       "      <td>NaN</td>\n",
       "      <td>NaN</td>\n",
       "      <td>NaN</td>\n",
       "      <td>{\"MIN_ABSOLUTE_TIMESTAMP\": 1499783415074.3904,...</td>\n",
       "    </tr>\n",
       "  </tbody>\n",
       "</table>\n",
       "</div>"
      ],
      "text/plain": [
       "                            User ID  \\\n",
       "0  37794415029a0900612317ac09b6ea23   \n",
       "1  37794415029a0900612317ac09b6ea23   \n",
       "2  37794415029a0900612317ac09b6ea23   \n",
       "3  37794415029a0900612317ac09b6ea23   \n",
       "4  37794415029a0900612317ac09b6ea23   \n",
       "\n",
       "                                               Probe  \\\n",
       "0  edu.northwestern.cbits.purple_robot_manager.pr...   \n",
       "1  edu.northwestern.cbits.purple_robot_manager.pr...   \n",
       "2  edu.northwestern.cbits.purple_robot_manager.pr...   \n",
       "3  edu.northwestern.cbits.purple_robot_manager.pr...   \n",
       "4  edu.northwestern.cbits.purple_robot_manager.pr...   \n",
       "\n",
       "                             Logged  Start  End  Duration  \\\n",
       "0  2017-07-11 14:30:00.029000+00:00    NaN  NaN       NaN   \n",
       "1  2017-07-11 14:30:05.028000+00:00    NaN  NaN       NaN   \n",
       "2  2017-07-11 14:30:10.014000+00:00    NaN  NaN       NaN   \n",
       "3  2017-07-11 14:30:15.027000+00:00    NaN  NaN       NaN   \n",
       "4  2017-07-11 14:30:20.025000+00:00    NaN  NaN       NaN   \n",
       "\n",
       "                                             Payload  \n",
       "0  {\"MIN_ABSOLUTE_TIMESTAMP\": 1499783395063.127, ...  \n",
       "1  {\"MIN_ABSOLUTE_TIMESTAMP\": 1499783400071.5752,...  \n",
       "2  {\"MIN_ABSOLUTE_TIMESTAMP\": 1499783405078.9646,...  \n",
       "3  {\"MIN_ABSOLUTE_TIMESTAMP\": 1499783410066.2354,...  \n",
       "4  {\"MIN_ABSOLUTE_TIMESTAMP\": 1499783415074.3904,...  "
      ]
     },
     "execution_count": 4,
     "metadata": {},
     "output_type": "execute_result"
    }
   ],
   "source": [
    "data.head()"
   ]
  },
  {
   "cell_type": "code",
   "execution_count": 5,
   "metadata": {
    "collapsed": false
   },
   "outputs": [],
   "source": [
    "p=data['Payload'].map(mysplit) #very slow"
   ]
  },
  {
   "cell_type": "code",
   "execution_count": 7,
   "metadata": {
    "collapsed": true
   },
   "outputs": [],
   "source": [
    "data['Payload'] = p"
   ]
  },
  {
   "cell_type": "code",
   "execution_count": 15,
   "metadata": {
    "collapsed": false
   },
   "outputs": [
    {
     "data": {
      "text/plain": [
       "['TIMESTAMP',\n",
       " '1499786398.716',\n",
       " 'GUID',\n",
       " '47bcba60-fffa-489c-9e69-020f76ac9460',\n",
       " 'FEATURE_VALUE',\n",
       " 'end',\n",
       " '1499786398704.0',\n",
       " 'name',\n",
       " 'kneeling',\n",
       " 'Probe',\n",
       " 'falls',\n",
       " 'SubID',\n",
       " 'CF035',\n",
       " 'start',\n",
       " '1499786367607.0',\n",
       " 'lietime',\n",
       " '30',\n",
       " 'falltype',\n",
       " 'sit',\n",
       " 'to',\n",
       " 'stand',\n",
       " 't',\n",
       " '1499786398704.0',\n",
       " 'duration',\n",
       " '31097.0',\n",
       " 'location',\n",
       " 'pouch',\n",
       " '}',\n",
       " 'PROBE',\n",
       " 'falls',\n",
       " '}']"
      ]
     },
     "execution_count": 15,
     "metadata": {},
     "output_type": "execute_result"
    }
   ],
   "source": [
    "data.iloc[2652,:].Payload"
   ]
  },
  {
   "cell_type": "code",
   "execution_count": 20,
   "metadata": {
    "collapsed": false
   },
   "outputs": [],
   "source": [
    "def findfall(x):\n",
    "    if 'falls' in x:\n",
    "        return 1\n",
    "    else:\n",
    "        return 0"
   ]
  },
  {
   "cell_type": "code",
   "execution_count": 21,
   "metadata": {
    "collapsed": false
   },
   "outputs": [
    {
     "data": {
      "text/plain": [
       "54"
      ]
     },
     "execution_count": 21,
     "metadata": {},
     "output_type": "execute_result"
    }
   ],
   "source": [
    "sum(p.map(findfall))"
   ]
  }
 ],
 "metadata": {
  "kernelspec": {
   "display_name": "Python 2",
   "language": "python",
   "name": "python2"
  },
  "language_info": {
   "codemirror_mode": {
    "name": "ipython",
    "version": 2
   },
   "file_extension": ".py",
   "mimetype": "text/x-python",
   "name": "python",
   "nbconvert_exporter": "python",
   "pygments_lexer": "ipython2",
   "version": "2.7.11"
  }
 },
 "nbformat": 4,
 "nbformat_minor": 0
}
