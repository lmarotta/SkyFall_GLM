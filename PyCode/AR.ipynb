{
 "cells": [
  {
   "cell_type": "markdown",
   "metadata": {},
   "source": [
    "# Explore Accuracy of Google AR"
   ]
  },
  {
   "cell_type": "code",
   "execution_count": 14,
   "metadata": {
    "collapsed": true
   },
   "outputs": [],
   "source": [
    "from __future__ import division\n",
    "\n",
    "import os\n",
    "import math\n",
    "import time\n",
    "import datetime\n",
    "import pandas as pd\n",
    "import numpy as np\n",
    "import seaborn as sns\n",
    "sns.set_style('white')\n",
    "\n",
    "import matplotlib.pyplot as plt\n",
    "%matplotlib inline\n",
    "\n",
    "import scipy.io as sio"
   ]
  },
  {
   "cell_type": "code",
   "execution_count": 2,
   "metadata": {
    "collapsed": false
   },
   "outputs": [
    {
     "name": "stdout",
     "output_type": "stream",
     "text": [
      "/Users/luca/Projects/SkyFall_GLM/PyCode\r\n"
     ]
    }
   ],
   "source": [
    "!pwd"
   ]
  },
  {
   "cell_type": "code",
   "execution_count": 3,
   "metadata": {
    "collapsed": true
   },
   "outputs": [],
   "source": [
    "# path = '../SkyFall_GLM/TrainingData/HealthyS5/ActData/'\n",
    "path = '../Phone Test/'"
   ]
  },
  {
   "cell_type": "markdown",
   "metadata": {},
   "source": [
    "## Walking data"
   ]
  },
  {
   "cell_type": "code",
   "execution_count": 4,
   "metadata": {
    "collapsed": false
   },
   "outputs": [],
   "source": [
    "Act = sio.loadmat(path+'ActivityData_Walk.mat',squeeze_me=True)"
   ]
  },
  {
   "cell_type": "code",
   "execution_count": 5,
   "metadata": {
    "collapsed": false
   },
   "outputs": [
    {
     "data": {
      "text/plain": [
       "dict"
      ]
     },
     "execution_count": 5,
     "metadata": {},
     "output_type": "execute_result"
    }
   ],
   "source": [
    "type(Act)"
   ]
  },
  {
   "cell_type": "code",
   "execution_count": 6,
   "metadata": {
    "collapsed": false
   },
   "outputs": [
    {
     "data": {
      "text/plain": [
       "dict_keys(['__version__', 'labels', '__header__', '__globals__', 'activity_detection'])"
      ]
     },
     "execution_count": 6,
     "metadata": {},
     "output_type": "execute_result"
    }
   ],
   "source": [
    "Act.keys()"
   ]
  },
  {
   "cell_type": "code",
   "execution_count": 7,
   "metadata": {
    "collapsed": false
   },
   "outputs": [
    {
     "data": {
      "text/plain": [
       "'1503166509'"
      ]
     },
     "execution_count": 7,
     "metadata": {},
     "output_type": "execute_result"
    }
   ],
   "source": [
    "Act['activity_detection'][0][2]"
   ]
  },
  {
   "cell_type": "code",
   "execution_count": 8,
   "metadata": {
    "collapsed": false
   },
   "outputs": [
    {
     "data": {
      "text/plain": [
       "(array(['UNKNOWN', 'STILL', 'ON_FOOT', 'ON_BICYCLE', 'WALKING',\n",
       "       'IN_VEHICLE', 'RUNNING'], dtype=object), array([59, 15, 13,  8,  8,  5,  5], dtype=uint8), '1503166509')"
      ]
     },
     "execution_count": 8,
     "metadata": {},
     "output_type": "execute_result"
    }
   ],
   "source": [
    "Act['activity_detection'][0]"
   ]
  },
  {
   "cell_type": "code",
   "execution_count": 9,
   "metadata": {
    "collapsed": false
   },
   "outputs": [],
   "source": [
    "Actdf = pd.DataFrame(Act['activity_detection'])  "
   ]
  },
  {
   "cell_type": "code",
   "execution_count": 10,
   "metadata": {
    "collapsed": false
   },
   "outputs": [],
   "source": [
    "Actdf['Timestamp']=Actdf['Timestamp'].astype('int')"
   ]
  },
  {
   "cell_type": "code",
   "execution_count": 11,
   "metadata": {
    "collapsed": true
   },
   "outputs": [],
   "source": [
    "Actdf['dt'] = Actdf['Timestamp'].diff()"
   ]
  },
  {
   "cell_type": "code",
   "execution_count": 12,
   "metadata": {
    "collapsed": false
   },
   "outputs": [
    {
     "data": {
      "text/html": [
       "<div>\n",
       "<table border=\"1\" class=\"dataframe\">\n",
       "  <thead>\n",
       "    <tr style=\"text-align: right;\">\n",
       "      <th></th>\n",
       "      <th>Type</th>\n",
       "      <th>Conf</th>\n",
       "      <th>Timestamp</th>\n",
       "      <th>dt</th>\n",
       "    </tr>\n",
       "  </thead>\n",
       "  <tbody>\n",
       "    <tr>\n",
       "      <th>0</th>\n",
       "      <td>[UNKNOWN, STILL, ON_FOOT, ON_BICYCLE, WALKING,...</td>\n",
       "      <td>[59, 15, 13, 8, 8, 5, 5]</td>\n",
       "      <td>1503166509</td>\n",
       "      <td>NaN</td>\n",
       "    </tr>\n",
       "    <tr>\n",
       "      <th>1</th>\n",
       "      <td>[STILL, UNKNOWN, ON_BICYCLE, IN_VEHICLE, ON_FO...</td>\n",
       "      <td>[46, 25, 23, 4, 2, 2]</td>\n",
       "      <td>1503166552</td>\n",
       "      <td>43.0</td>\n",
       "    </tr>\n",
       "    <tr>\n",
       "      <th>2</th>\n",
       "      <td>[UNKNOWN, ON_FOOT, WALKING, STILL, RUNNING]</td>\n",
       "      <td>[69, 25, 23, 6, 2]</td>\n",
       "      <td>1503166580</td>\n",
       "      <td>28.0</td>\n",
       "    </tr>\n",
       "    <tr>\n",
       "      <th>3</th>\n",
       "      <td>[UNKNOWN, IN_VEHICLE, STILL, ON_FOOT, WALKING]</td>\n",
       "      <td>[48, 31, 18, 4, 4]</td>\n",
       "      <td>1503166610</td>\n",
       "      <td>30.0</td>\n",
       "    </tr>\n",
       "    <tr>\n",
       "      <th>4</th>\n",
       "      <td>[UNKNOWN, ON_FOOT, WALKING, IN_VEHICLE, STILL]</td>\n",
       "      <td>[43, 29, 29, 25, 4]</td>\n",
       "      <td>1503166641</td>\n",
       "      <td>31.0</td>\n",
       "    </tr>\n",
       "  </tbody>\n",
       "</table>\n",
       "</div>"
      ],
      "text/plain": [
       "                                                Type  \\\n",
       "0  [UNKNOWN, STILL, ON_FOOT, ON_BICYCLE, WALKING,...   \n",
       "1  [STILL, UNKNOWN, ON_BICYCLE, IN_VEHICLE, ON_FO...   \n",
       "2        [UNKNOWN, ON_FOOT, WALKING, STILL, RUNNING]   \n",
       "3     [UNKNOWN, IN_VEHICLE, STILL, ON_FOOT, WALKING]   \n",
       "4     [UNKNOWN, ON_FOOT, WALKING, IN_VEHICLE, STILL]   \n",
       "\n",
       "                       Conf   Timestamp    dt  \n",
       "0  [59, 15, 13, 8, 8, 5, 5]  1503166509   NaN  \n",
       "1     [46, 25, 23, 4, 2, 2]  1503166552  43.0  \n",
       "2        [69, 25, 23, 6, 2]  1503166580  28.0  \n",
       "3        [48, 31, 18, 4, 4]  1503166610  30.0  \n",
       "4       [43, 29, 29, 25, 4]  1503166641  31.0  "
      ]
     },
     "execution_count": 12,
     "metadata": {},
     "output_type": "execute_result"
    }
   ],
   "source": [
    "Actdf.head()"
   ]
  },
  {
   "cell_type": "code",
   "execution_count": 13,
   "metadata": {
    "collapsed": false
   },
   "outputs": [
    {
     "data": {
      "text/plain": [
       "<matplotlib.axes._subplots.AxesSubplot at 0x1031ef390>"
      ]
     },
     "execution_count": 13,
     "metadata": {},
     "output_type": "execute_result"
    },
    {
     "data": {
      "image/png": "[encoded data removed]",
      "text/plain": [
       "<matplotlib.figure.Figure at 0x10317fe48>"
      ]
     },
     "metadata": {},
     "output_type": "display_data"
    }
   ],
   "source": [
    "Actdf.dt.plot()"
   ]
  },
  {
   "cell_type": "code",
   "execution_count": 26,
   "metadata": {
    "collapsed": false
   },
   "outputs": [
    {
     "name": "stdout",
     "output_type": "stream",
     "text": [
      "2017-08-19 13:15:09   2017-08-19 14:24:41\n"
     ]
    }
   ],
   "source": [
    "timerange = Actdf.Timestamp.apply(datetime.datetime.fromtimestamp)\n",
    "print(timerange[0], ' ', timerange[timerange.index[-1]])"
   ]
  },
  {
   "cell_type": "code",
   "execution_count": 27,
   "metadata": {
    "collapsed": false
   },
   "outputs": [
    {
     "data": {
      "text/plain": [
       "139"
      ]
     },
     "execution_count": 27,
     "metadata": {},
     "output_type": "execute_result"
    }
   ],
   "source": [
    "len(Actdf)"
   ]
  },
  {
   "cell_type": "code",
   "execution_count": 30,
   "metadata": {
    "collapsed": false
   },
   "outputs": [
    {
     "name": "stdout",
     "output_type": "stream",
     "text": [
      "30.0\n"
     ]
    },
    {
     "data": {
      "image/png": "[encoded data removed]",
      "text/plain": [
       "<matplotlib.figure.Figure at 0x103de0690>"
      ]
     },
     "metadata": {},
     "output_type": "display_data"
    }
   ],
   "source": [
    "dt = Actdf['Timestamp'].diff()\n",
    "plt.figure(figsize=(10,6))\n",
    "sns.boxplot(dt)\n",
    "plt.xlim(0,50)\n",
    "print(dt.median())"
   ]
  },
  {
   "cell_type": "code",
   "execution_count": 31,
   "metadata": {
    "collapsed": false
   },
   "outputs": [
    {
     "data": {
      "text/plain": [
       "array([u'UNKNOWN', u'STILL', u'ON_FOOT', u'ON_BICYCLE', u'WALKING',\n",
       "       u'IN_VEHICLE', u'RUNNING'], dtype=object)"
      ]
     },
     "execution_count": 31,
     "metadata": {},
     "output_type": "execute_result"
    }
   ],
   "source": [
    "Actdf.Type[0]"
   ]
  },
  {
   "cell_type": "code",
   "execution_count": 155,
   "metadata": {
    "collapsed": false
   },
   "outputs": [
    {
     "name": "stdout",
     "output_type": "stream",
     "text": [
      "1\n"
     ]
    }
   ],
   "source": [
    "if not isinstance(Actdf.Type[0],unicode):\n",
    "    print 1"
   ]
  },
  {
   "cell_type": "code",
   "execution_count": 32,
   "metadata": {
    "collapsed": false
   },
   "outputs": [
    {
     "data": {
      "text/plain": [
       "0    [UNKNOWN, STILL, ON_FOOT, ON_BICYCLE, WALKING,...\n",
       "1    [STILL, UNKNOWN, ON_BICYCLE, IN_VEHICLE, ON_FO...\n",
       "2          [UNKNOWN, ON_FOOT, WALKING, STILL, RUNNING]\n",
       "3       [UNKNOWN, IN_VEHICLE, STILL, ON_FOOT, WALKING]\n",
       "4       [UNKNOWN, ON_FOOT, WALKING, IN_VEHICLE, STILL]\n",
       "5     [ON_FOOT, WALKING, IN_VEHICLE, UNKNOWN, RUNNING]\n",
       "6                       [ON_FOOT, WALKING, IN_VEHICLE]\n",
       "7                       [ON_FOOT, WALKING, IN_VEHICLE]\n",
       "8                                   [ON_FOOT, WALKING]\n",
       "9                                   [ON_FOOT, WALKING]\n",
       "Name: Type, dtype: object"
      ]
     },
     "execution_count": 32,
     "metadata": {},
     "output_type": "execute_result"
    }
   ],
   "source": [
    "Actdf.Type[0:10]"
   ]
  },
  {
   "cell_type": "code",
   "execution_count": 45,
   "metadata": {
    "collapsed": true
   },
   "outputs": [],
   "source": [
    "def Act1(x): \n",
    "    if not isinstance(x,unicode):\n",
    "        return x[0]\n",
    "    else:\n",
    "        return x\n",
    "\n",
    "def Act2(x): \n",
    "    if not isinstance(x,unicode):\n",
    "        return x[1]\n",
    "    \n",
    "def Conf1(x):\n",
    "    if not isinstance(x,int):\n",
    "        return x[0]\n",
    "    else:\n",
    "        return x\n",
    "    \n",
    "def Conf2(x):\n",
    "    if not isinstance(x,int):\n",
    "        return x[1]"
   ]
  },
  {
   "cell_type": "code",
   "execution_count": 46,
   "metadata": {
    "collapsed": false
   },
   "outputs": [],
   "source": [
    "Actdf['Activity1'] = Actdf.Type.map(Act1)\n",
    "Actdf['Conf1'] = Actdf.Conf.map(Conf1)\n",
    "Actdf['Activity2'] = Actdf.Type.map(Act2)\n",
    "Actdf['Conf2'] = Actdf.Conf.map(Conf2)"
   ]
  },
  {
   "cell_type": "code",
   "execution_count": 47,
   "metadata": {
    "collapsed": false
   },
   "outputs": [
    {
     "data": {
      "text/plain": [
       "numpy.ndarray"
      ]
     },
     "execution_count": 47,
     "metadata": {},
     "output_type": "execute_result"
    }
   ],
   "source": [
    "type(Actdf.Conf[1])"
   ]
  },
  {
   "cell_type": "code",
   "execution_count": 48,
   "metadata": {
    "collapsed": false
   },
   "outputs": [
    {
     "data": {
      "text/html": [
       "<div>\n",
       "<table border=\"1\" class=\"dataframe\">\n",
       "  <thead>\n",
       "    <tr style=\"text-align: right;\">\n",
       "      <th></th>\n",
       "      <th>Type</th>\n",
       "      <th>Conf</th>\n",
       "      <th>Timestamp</th>\n",
       "      <th>dt</th>\n",
       "      <th>Activity1</th>\n",
       "      <th>Conf1</th>\n",
       "      <th>Activity2</th>\n",
       "      <th>Conf2</th>\n",
       "    </tr>\n",
       "  </thead>\n",
       "  <tbody>\n",
       "    <tr>\n",
       "      <th>0</th>\n",
       "      <td>[UNKNOWN, STILL, ON_FOOT, ON_BICYCLE, WALKING,...</td>\n",
       "      <td>[59, 15, 13, 8, 8, 5, 5]</td>\n",
       "      <td>1503166509</td>\n",
       "      <td>NaN</td>\n",
       "      <td>UNKNOWN</td>\n",
       "      <td>59</td>\n",
       "      <td>STILL</td>\n",
       "      <td>15.0</td>\n",
       "    </tr>\n",
       "    <tr>\n",
       "      <th>1</th>\n",
       "      <td>[STILL, UNKNOWN, ON_BICYCLE, IN_VEHICLE, ON_FO...</td>\n",
       "      <td>[46, 25, 23, 4, 2, 2]</td>\n",
       "      <td>1503166552</td>\n",
       "      <td>43.0</td>\n",
       "      <td>STILL</td>\n",
       "      <td>46</td>\n",
       "      <td>UNKNOWN</td>\n",
       "      <td>25.0</td>\n",
       "    </tr>\n",
       "    <tr>\n",
       "      <th>2</th>\n",
       "      <td>[UNKNOWN, ON_FOOT, WALKING, STILL, RUNNING]</td>\n",
       "      <td>[69, 25, 23, 6, 2]</td>\n",
       "      <td>1503166580</td>\n",
       "      <td>28.0</td>\n",
       "      <td>UNKNOWN</td>\n",
       "      <td>69</td>\n",
       "      <td>ON_FOOT</td>\n",
       "      <td>25.0</td>\n",
       "    </tr>\n",
       "    <tr>\n",
       "      <th>3</th>\n",
       "      <td>[UNKNOWN, IN_VEHICLE, STILL, ON_FOOT, WALKING]</td>\n",
       "      <td>[48, 31, 18, 4, 4]</td>\n",
       "      <td>1503166610</td>\n",
       "      <td>30.0</td>\n",
       "      <td>UNKNOWN</td>\n",
       "      <td>48</td>\n",
       "      <td>IN_VEHICLE</td>\n",
       "      <td>31.0</td>\n",
       "    </tr>\n",
       "    <tr>\n",
       "      <th>4</th>\n",
       "      <td>[UNKNOWN, ON_FOOT, WALKING, IN_VEHICLE, STILL]</td>\n",
       "      <td>[43, 29, 29, 25, 4]</td>\n",
       "      <td>1503166641</td>\n",
       "      <td>31.0</td>\n",
       "      <td>UNKNOWN</td>\n",
       "      <td>43</td>\n",
       "      <td>ON_FOOT</td>\n",
       "      <td>29.0</td>\n",
       "    </tr>\n",
       "  </tbody>\n",
       "</table>\n",
       "</div>"
      ],
      "text/plain": [
       "                                                Type  \\\n",
       "0  [UNKNOWN, STILL, ON_FOOT, ON_BICYCLE, WALKING,...   \n",
       "1  [STILL, UNKNOWN, ON_BICYCLE, IN_VEHICLE, ON_FO...   \n",
       "2        [UNKNOWN, ON_FOOT, WALKING, STILL, RUNNING]   \n",
       "3     [UNKNOWN, IN_VEHICLE, STILL, ON_FOOT, WALKING]   \n",
       "4     [UNKNOWN, ON_FOOT, WALKING, IN_VEHICLE, STILL]   \n",
       "\n",
       "                       Conf   Timestamp    dt Activity1  Conf1   Activity2  \\\n",
       "0  [59, 15, 13, 8, 8, 5, 5]  1503166509   NaN   UNKNOWN     59       STILL   \n",
       "1     [46, 25, 23, 4, 2, 2]  1503166552  43.0     STILL     46     UNKNOWN   \n",
       "2        [69, 25, 23, 6, 2]  1503166580  28.0   UNKNOWN     69     ON_FOOT   \n",
       "3        [48, 31, 18, 4, 4]  1503166610  30.0   UNKNOWN     48  IN_VEHICLE   \n",
       "4       [43, 29, 29, 25, 4]  1503166641  31.0   UNKNOWN     43     ON_FOOT   \n",
       "\n",
       "   Conf2  \n",
       "0   15.0  \n",
       "1   25.0  \n",
       "2   25.0  \n",
       "3   31.0  \n",
       "4   29.0  "
      ]
     },
     "execution_count": 48,
     "metadata": {},
     "output_type": "execute_result"
    }
   ],
   "source": [
    "Actdf.head()"
   ]
  },
  {
   "cell_type": "code",
   "execution_count": 50,
   "metadata": {
    "collapsed": false
   },
   "outputs": [
    {
     "data": {
      "text/plain": [
       "<matplotlib.axes._subplots.AxesSubplot at 0x1141daa90>"
      ]
     },
     "execution_count": 50,
     "metadata": {},
     "output_type": "execute_result"
    },
    {
     "data": {
      "image/png": "[encoded data removed]",
      "text/plain": [
       "<matplotlib.figure.Figure at 0x1141dadd0>"
      ]
     },
     "metadata": {},
     "output_type": "display_data"
    }
   ],
   "source": [
    "sns.set_context('paper',font_scale=1.5)\n",
    "plt.figure(figsize=(8,6))\n",
    "sns.distplot(Actdf.Conf1,kde=False)\n",
    "sns.distplot(Actdf.Conf2.dropna(),kde=False,bins=10)"
   ]
  },
  {
   "cell_type": "code",
   "execution_count": 80,
   "metadata": {
    "collapsed": false
   },
   "outputs": [
    {
     "data": {
      "text/plain": [
       "<matplotlib.axes._subplots.AxesSubplot at 0x11649fdd0>"
      ]
     },
     "execution_count": 80,
     "metadata": {},
     "output_type": "execute_result"
    },
    {
     "data": {
      "image/png": "[encoded data removed]",
      "text/plain": [
       "<matplotlib.figure.Figure at 0x11631c450>"
      ]
     },
     "metadata": {},
     "output_type": "display_data"
    }
   ],
   "source": [
    "fig = plt.figure(figsize=(15,5))\n",
    "fig.add_subplot(121)\n",
    "sns.countplot(Actdf.Activity1)\n",
    "fig.add_subplot(122)\n",
    "sns.countplot(Actdf.Activity2)"
   ]
  },
  {
   "cell_type": "code",
   "execution_count": 81,
   "metadata": {
    "collapsed": false
   },
   "outputs": [
    {
     "data": {
      "text/plain": [
       "<matplotlib.axes._subplots.AxesSubplot at 0x1167b3190>"
      ]
     },
     "execution_count": 81,
     "metadata": {},
     "output_type": "execute_result"
    },
    {
     "data": {
      "image/png": "[encoded data removed]",
      "text/plain": [
       "<matplotlib.figure.Figure at 0x11654fcd0>"
      ]
     },
     "metadata": {},
     "output_type": "display_data"
    }
   ],
   "source": [
    "fig = plt.figure(figsize=(15,5))\n",
    "fig.add_subplot(121)\n",
    "sns.countplot(Actdf[Actdf.Conf1>75].Activity1)\n",
    "fig.add_subplot(122)\n",
    "sns.countplot(Actdf[Actdf.Conf2>75].Activity2)"
   ]
  },
  {
   "cell_type": "code",
   "execution_count": 84,
   "metadata": {
    "collapsed": false
   },
   "outputs": [
    {
     "data": {
      "text/plain": [
       "array([u'STILL', u'UNKNOWN', u'ON_FOOT', u'IN_VEHICLE', u'WALKING',\n",
       "       u'ON_BICYCLE', None], dtype=object)"
      ]
     },
     "execution_count": 84,
     "metadata": {},
     "output_type": "execute_result"
    }
   ],
   "source": [
    "Actdf.Activity2.unique()"
   ]
  },
  {
   "cell_type": "code",
   "execution_count": 85,
   "metadata": {
    "collapsed": false
   },
   "outputs": [
    {
     "data": {
      "text/plain": [
       "['IN_VEHICLE',\n",
       " 'ON_BICYCLE',\n",
       " 'ON_FOOT',\n",
       " 'RUNNING',\n",
       " 'STILL',\n",
       " 'TILTING',\n",
       " 'UNKNOWN',\n",
       " 'WALKING']"
      ]
     },
     "execution_count": 85,
     "metadata": {},
     "output_type": "execute_result"
    }
   ],
   "source": [
    "from sklearn import preprocessing\n",
    "le = preprocessing.LabelEncoder()\n",
    "le.fit(['STILL','ON_FOOT','WALKING','RUNNING','ON_BICYCLE','IN_VEHICLE','TILTING','UNKNOWN'])\n",
    "list(le.classes_)"
   ]
  },
  {
   "cell_type": "code",
   "execution_count": 112,
   "metadata": {
    "collapsed": false
   },
   "outputs": [
    {
     "data": {
      "text/plain": [
       "array(['IN_VEHICLE', 'ON_BICYCLE', 'ON_FOOT'],\n",
       "      dtype='|S10')"
      ]
     },
     "execution_count": 112,
     "metadata": {},
     "output_type": "execute_result"
    }
   ],
   "source": [
    "le.inverse_transform([0,1,2])"
   ]
  },
  {
   "cell_type": "code",
   "execution_count": 114,
   "metadata": {
    "collapsed": false
   },
   "outputs": [
    {
     "data": {
      "image/png": "[encoded data removed]",
      "text/plain": [
       "<matplotlib.figure.Figure at 0x11838ba50>"
      ]
     },
     "metadata": {},
     "output_type": "display_data"
    }
   ],
   "source": [
    "fig = plt.figure(figsize=(15,5))\n",
    "fig.add_subplot(121)\n",
    "plt.plot(le.transform(Actdf.Activity1))\n",
    "plt.ylim(-1,8)\n",
    "g = plt.yticks(np.arange(7),list(le.classes_))\n",
    "# fig.add_subplot(122)\n",
    "# plt.plot(le.transform(Actdf.Activity2))\n",
    "# plt.ylim(-1,8)\n",
    "# plt.yticks(np.arange(7),list(le.classes_))\n"
   ]
  },
  {
   "cell_type": "code",
   "execution_count": 71,
   "metadata": {
    "collapsed": false,
    "scrolled": false
   },
   "outputs": [
    {
     "name": "stdout",
     "output_type": "stream",
     "text": [
      "ON_FOOT    48\n",
      "STILL      25\n",
      "UNKNOWN     4\n",
      "TILTING     1\n",
      "Name: Activity1, dtype: int64\n",
      "WALKING       48\n",
      "IN_VEHICLE     8\n",
      "ON_FOOT        2\n",
      "STILL          2\n",
      "UNKNOWN        1\n",
      "ON_BICYCLE     1\n",
      "Name: Activity2, dtype: int64\n"
     ]
    }
   ],
   "source": [
    "print(Actdf[Actdf.Conf1>75].Activity1.value_counts())\n",
    "print(Actdf[Actdf.Conf1>75].Activity2.value_counts())"
   ]
  },
  {
   "cell_type": "markdown",
   "metadata": {},
   "source": [
    "# In-vehicle"
   ]
  },
  {
   "cell_type": "code",
   "execution_count": 117,
   "metadata": {
    "collapsed": true
   },
   "outputs": [],
   "source": [
    "Act = sio.loadmat(path+'ActivityData_Car1.mat',squeeze_me=True)"
   ]
  },
  {
   "cell_type": "code",
   "execution_count": 118,
   "metadata": {
    "collapsed": false
   },
   "outputs": [],
   "source": [
    "Actdf = pd.DataFrame(Act['activity_detection'])  \n",
    "Actdf['Timestamp']=Actdf['Timestamp'].astype('int')\n",
    "Actdf['dt'] = Actdf['Timestamp'].diff()"
   ]
  },
  {
   "cell_type": "code",
   "execution_count": 120,
   "metadata": {
    "collapsed": false
   },
   "outputs": [
    {
     "data": {
      "text/plain": [
       "<matplotlib.axes._subplots.AxesSubplot at 0x1172d5990>"
      ]
     },
     "execution_count": 120,
     "metadata": {},
     "output_type": "execute_result"
    },
    {
     "data": {
      "image/png": "[encoded data removed]",
      "text/plain": [
       "<matplotlib.figure.Figure at 0x1181e2690>"
      ]
     },
     "metadata": {},
     "output_type": "display_data"
    }
   ],
   "source": [
    "Actdf.dt.plot()"
   ]
  },
  {
   "cell_type": "code",
   "execution_count": 121,
   "metadata": {
    "collapsed": true
   },
   "outputs": [],
   "source": [
    "Actdf['Activity1'] = Actdf.Type.map(Act1)\n",
    "Actdf['Conf1'] = Actdf.Conf.map(Conf1)\n",
    "Actdf['Activity2'] = Actdf.Type.map(Act2)\n",
    "Actdf['Conf2'] = Actdf.Conf.map(Conf2)"
   ]
  },
  {
   "cell_type": "code",
   "execution_count": 122,
   "metadata": {
    "collapsed": false
   },
   "outputs": [
    {
     "data": {
      "text/html": [
       "<div>\n",
       "<table border=\"1\" class=\"dataframe\">\n",
       "  <thead>\n",
       "    <tr style=\"text-align: right;\">\n",
       "      <th></th>\n",
       "      <th>Type</th>\n",
       "      <th>Conf</th>\n",
       "      <th>Timestamp</th>\n",
       "      <th>dt</th>\n",
       "      <th>Activity1</th>\n",
       "      <th>Conf1</th>\n",
       "      <th>Activity2</th>\n",
       "      <th>Conf2</th>\n",
       "    </tr>\n",
       "  </thead>\n",
       "  <tbody>\n",
       "    <tr>\n",
       "      <th>0</th>\n",
       "      <td>[STILL, IN_VEHICLE, ON_FOOT, WALKING]</td>\n",
       "      <td>[54, 31, 15, 15]</td>\n",
       "      <td>1503183603</td>\n",
       "      <td>NaN</td>\n",
       "      <td>STILL</td>\n",
       "      <td>54</td>\n",
       "      <td>IN_VEHICLE</td>\n",
       "      <td>31.0</td>\n",
       "    </tr>\n",
       "    <tr>\n",
       "      <th>1</th>\n",
       "      <td>[STILL, IN_VEHICLE]</td>\n",
       "      <td>[85, 15]</td>\n",
       "      <td>1503183634</td>\n",
       "      <td>31.0</td>\n",
       "      <td>STILL</td>\n",
       "      <td>85</td>\n",
       "      <td>IN_VEHICLE</td>\n",
       "      <td>15.0</td>\n",
       "    </tr>\n",
       "    <tr>\n",
       "      <th>2</th>\n",
       "      <td>[STILL, IN_VEHICLE]</td>\n",
       "      <td>[85, 15]</td>\n",
       "      <td>1503183664</td>\n",
       "      <td>30.0</td>\n",
       "      <td>STILL</td>\n",
       "      <td>85</td>\n",
       "      <td>IN_VEHICLE</td>\n",
       "      <td>15.0</td>\n",
       "    </tr>\n",
       "    <tr>\n",
       "      <th>3</th>\n",
       "      <td>[STILL, IN_VEHICLE]</td>\n",
       "      <td>[77, 23]</td>\n",
       "      <td>1503183694</td>\n",
       "      <td>30.0</td>\n",
       "      <td>STILL</td>\n",
       "      <td>77</td>\n",
       "      <td>IN_VEHICLE</td>\n",
       "      <td>23.0</td>\n",
       "    </tr>\n",
       "    <tr>\n",
       "      <th>4</th>\n",
       "      <td>[STILL, UNKNOWN, IN_VEHICLE]</td>\n",
       "      <td>[62, 23, 15]</td>\n",
       "      <td>1503183724</td>\n",
       "      <td>30.0</td>\n",
       "      <td>STILL</td>\n",
       "      <td>62</td>\n",
       "      <td>UNKNOWN</td>\n",
       "      <td>23.0</td>\n",
       "    </tr>\n",
       "  </tbody>\n",
       "</table>\n",
       "</div>"
      ],
      "text/plain": [
       "                                    Type              Conf   Timestamp    dt  \\\n",
       "0  [STILL, IN_VEHICLE, ON_FOOT, WALKING]  [54, 31, 15, 15]  1503183603   NaN   \n",
       "1                    [STILL, IN_VEHICLE]          [85, 15]  1503183634  31.0   \n",
       "2                    [STILL, IN_VEHICLE]          [85, 15]  1503183664  30.0   \n",
       "3                    [STILL, IN_VEHICLE]          [77, 23]  1503183694  30.0   \n",
       "4           [STILL, UNKNOWN, IN_VEHICLE]      [62, 23, 15]  1503183724  30.0   \n",
       "\n",
       "  Activity1  Conf1   Activity2  Conf2  \n",
       "0     STILL     54  IN_VEHICLE   31.0  \n",
       "1     STILL     85  IN_VEHICLE   15.0  \n",
       "2     STILL     85  IN_VEHICLE   15.0  \n",
       "3     STILL     77  IN_VEHICLE   23.0  \n",
       "4     STILL     62     UNKNOWN   23.0  "
      ]
     },
     "execution_count": 122,
     "metadata": {},
     "output_type": "execute_result"
    }
   ],
   "source": [
    "Actdf.head()"
   ]
  },
  {
   "cell_type": "code",
   "execution_count": 123,
   "metadata": {
    "collapsed": false
   },
   "outputs": [
    {
     "data": {
      "text/plain": [
       "<matplotlib.axes._subplots.AxesSubplot at 0x118cb1b50>"
      ]
     },
     "execution_count": 123,
     "metadata": {},
     "output_type": "execute_result"
    },
    {
     "data": {
      "image/png": "[encoded data removed]",
      "text/plain": [
       "<matplotlib.figure.Figure at 0x1181e2410>"
      ]
     },
     "metadata": {},
     "output_type": "display_data"
    }
   ],
   "source": [
    "fig = plt.figure(figsize=(15,5))\n",
    "fig.add_subplot(121)\n",
    "sns.countplot(Actdf.Activity1)\n",
    "fig.add_subplot(122)\n",
    "sns.countplot(Actdf.Activity2)"
   ]
  },
  {
   "cell_type": "code",
   "execution_count": 125,
   "metadata": {
    "collapsed": false
   },
   "outputs": [
    {
     "data": {
      "text/plain": [
       "<matplotlib.axes._subplots.AxesSubplot at 0x117524bd0>"
      ]
     },
     "execution_count": 125,
     "metadata": {},
     "output_type": "execute_result"
    },
    {
     "data": {
      "image/png": "[encoded data removed]",
      "text/plain": [
       "<matplotlib.figure.Figure at 0x1177bec90>"
      ]
     },
     "metadata": {},
     "output_type": "display_data"
    }
   ],
   "source": [
    "fig = plt.figure(figsize=(15,5))\n",
    "fig.add_subplot(121)\n",
    "sns.countplot(Actdf[Actdf.Conf1>75].Activity1)\n",
    "fig.add_subplot(122)\n",
    "sns.countplot(Actdf[Actdf.Conf1>75].Activity2)"
   ]
  },
  {
   "cell_type": "code",
   "execution_count": 126,
   "metadata": {
    "collapsed": false
   },
   "outputs": [
    {
     "data": {
      "image/png": "[encoded data removed]",
      "text/plain": [
       "<matplotlib.figure.Figure at 0x11829a250>"
      ]
     },
     "metadata": {},
     "output_type": "display_data"
    }
   ],
   "source": [
    "fig = plt.figure(figsize=(15,5))\n",
    "fig.add_subplot(121)\n",
    "plt.plot(le.transform(Actdf.Activity1))\n",
    "plt.ylim(-1,8)\n",
    "g = plt.yticks(np.arange(7),list(le.classes_))\n"
   ]
  },
  {
   "cell_type": "code",
   "execution_count": null,
   "metadata": {
    "collapsed": true
   },
   "outputs": [],
   "source": []
  }
 ],
 "metadata": {
  "anaconda-cloud": {},
  "kernelspec": {
   "display_name": "Python [conda env:py35]",
   "language": "python",
   "name": "conda-env-py35-py"
  },
  "language_info": {
   "codemirror_mode": {
    "name": "ipython",
    "version": 3
   },
   "file_extension": ".py",
   "mimetype": "text/x-python",
   "name": "python",
   "nbconvert_exporter": "python",
   "pygments_lexer": "ipython3",
   "version": "3.5.2"
  }
 },
 "nbformat": 4,
 "nbformat_minor": 0
}
